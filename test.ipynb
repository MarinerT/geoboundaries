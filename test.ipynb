{
 "cells": [
  {
   "cell_type": "code",
   "execution_count": 1,
   "metadata": {},
   "outputs": [],
   "source": [
    "import geoboundaries"
   ]
  },
  {
   "cell_type": "code",
   "execution_count": 2,
   "metadata": {},
   "outputs": [
    {
     "name": "stdout",
     "output_type": "stream",
     "text": [
      "Help on package geoboundaries:\n",
      "\n",
      "NAME\n",
      "    geoboundaries\n",
      "\n",
      "PACKAGE CONTENTS\n",
      "    geoboundaries\n",
      "    test (package)\n",
      "\n",
      "VERSION\n",
      "    0.0.7\n",
      "\n",
      "FILE\n",
      "    /workspaces/geospatialfile/geoboundaries/__init__.py\n",
      "\n",
      "\n"
     ]
    }
   ],
   "source": [
    "help(geoboundaries)"
   ]
  },
  {
   "cell_type": "code",
   "execution_count": 1,
   "metadata": {},
   "outputs": [],
   "source": [
    "from geoboundaries import Country"
   ]
  },
  {
   "cell_type": "code",
   "execution_count": 2,
   "metadata": {},
   "outputs": [],
   "source": [
    "country = Country(\"EGY\").fetch"
   ]
  },
  {
   "cell_type": "code",
   "execution_count": 3,
   "metadata": {},
   "outputs": [
    {
     "data": {
      "text/plain": [
       "Country(alpha_2='EG', alpha_3='EGY', flag='🇪🇬', name='Egypt', numeric='818', official_name='Arab Republic of Egypt')"
      ]
     },
     "execution_count": 3,
     "metadata": {},
     "output_type": "execute_result"
    }
   ],
   "source": [
    "country"
   ]
  },
  {
   "cell_type": "code",
   "execution_count": 12,
   "metadata": {},
   "outputs": [
    {
     "data": {
      "text/plain": [
       "pycountry.db.Country"
      ]
     },
     "execution_count": 12,
     "metadata": {},
     "output_type": "execute_result"
    }
   ],
   "source": [
    "ountry(alpha_2='EG', alpha_3='EGY', flag='🇪🇬', name='Egypt', numeric='818', official_name='Arab Republic of Egypt')"
   ]
  },
  {
   "cell_type": "code",
   "execution_count": 25,
   "metadata": {},
   "outputs": [],
   "source": [
    "import pycountry\n",
    "def country_validator(test_list, key):\n",
    "    for t in test_list:\n",
    "        country = Country(t)\n",
    "        assert type(country) == pycountry.db.Country\n",
    "        assert country.__dict__ == key\n",
    "\n",
    "def test_country_iso2():\n",
    "    test_list = [\"eg\", \"Eg\", \"EG\"]\n",
    "    country_validator(test_list, \"alpha_2\")\n",
    "\n",
    "def test_country_iso3():\n",
    "    test_list = [\"egy\", \"EGY\", \"eGY\"]\n",
    "    country_validator(test_list, \"alpha_3\")\n",
    "\n",
    "def test_country_name():\n",
    "    test_list = [\"Egypt\", \"EGYPT\", \"egypt\"]\n",
    "    country_validator(test_list, \"name\")\n",
    "\n",
    "\n",
    "import unittest\n",
    "\n",
    "class CountryTests(unittest.TestCase):\n",
    "\n",
    "    @staticmethod\n",
    "    def country_validator(test_list, key):\n",
    "        for t in test_list:\n",
    "            country = Country(t)\n",
    "            assert type(country) == \"pycountry.db.Country\"\n",
    "            assert country.__dict__ == key\n",
    "\n",
    "    @staticmethod\n",
    "    def test_country_iso2():\n",
    "        test_list = [\"eg\", \"Eg\", \"EG\"]\n",
    "        country_validator(test_list, \"alpha_2\")\n",
    "\n",
    "    @staticmethod\n",
    "    def test_country_iso3():\n",
    "        test_list = [\"egy\", \"EGY\", \"eGY\"]\n",
    "        country_validator(test_list, \"alpha_3\")\n",
    "\n",
    "    @staticmethod\n",
    "    def test_country_name():\n",
    "        test_list = [\"Egypt\", \"EGYPT\", \"egypt\"]\n",
    "        country_validator(test_list, \"name\")\n",
    "\n"
   ]
  },
  {
   "cell_type": "code",
   "execution_count": 26,
   "metadata": {},
   "outputs": [
    {
     "ename": "AttributeError",
     "evalue": "module 'pycountry.db' has no attribute 'Country'",
     "output_type": "error",
     "traceback": [
      "\u001b[0;31m---------------------------------------------------------------------------\u001b[0m",
      "\u001b[0;31mAttributeError\u001b[0m                            Traceback (most recent call last)",
      "Cell \u001b[0;32mIn[26], line 1\u001b[0m\n\u001b[0;32m----> 1\u001b[0m CountryTests()\u001b[39m.\u001b[39;49mtest_country_name()\n",
      "Cell \u001b[0;32mIn[25], line 45\u001b[0m, in \u001b[0;36mCountryTests.test_country_name\u001b[0;34m()\u001b[0m\n\u001b[1;32m     42\u001b[0m \u001b[39m@staticmethod\u001b[39m\n\u001b[1;32m     43\u001b[0m \u001b[39mdef\u001b[39;00m \u001b[39mtest_country_name\u001b[39m():\n\u001b[1;32m     44\u001b[0m     test_list \u001b[39m=\u001b[39m [\u001b[39m\"\u001b[39m\u001b[39mEgypt\u001b[39m\u001b[39m\"\u001b[39m, \u001b[39m\"\u001b[39m\u001b[39mEGYPT\u001b[39m\u001b[39m\"\u001b[39m, \u001b[39m\"\u001b[39m\u001b[39megypt\u001b[39m\u001b[39m\"\u001b[39m]\n\u001b[0;32m---> 45\u001b[0m     country_validator(test_list, \u001b[39m\"\u001b[39;49m\u001b[39mname\u001b[39;49m\u001b[39m\"\u001b[39;49m)\n",
      "Cell \u001b[0;32mIn[25], line 5\u001b[0m, in \u001b[0;36mcountry_validator\u001b[0;34m(test_list, key)\u001b[0m\n\u001b[1;32m      3\u001b[0m \u001b[39mfor\u001b[39;00m t \u001b[39min\u001b[39;00m test_list:\n\u001b[1;32m      4\u001b[0m     country \u001b[39m=\u001b[39m Country(t)\n\u001b[0;32m----> 5\u001b[0m     \u001b[39massert\u001b[39;00m \u001b[39mtype\u001b[39m(country) \u001b[39m==\u001b[39m pycountry\u001b[39m.\u001b[39;49mdb\u001b[39m.\u001b[39;49mCountry\n\u001b[1;32m      6\u001b[0m     \u001b[39massert\u001b[39;00m country\u001b[39m.\u001b[39m\u001b[39m__dict__\u001b[39m \u001b[39m==\u001b[39m key\n",
      "\u001b[0;31mAttributeError\u001b[0m: module 'pycountry.db' has no attribute 'Country'"
     ]
    }
   ],
   "source": [
    "CountryTests().test_country_name()"
   ]
  },
  {
   "cell_type": "code",
   "execution_count": null,
   "metadata": {},
   "outputs": [],
   "source": []
  }
 ],
 "metadata": {
  "kernelspec": {
   "display_name": "Python 3",
   "language": "python",
   "name": "python3"
  },
  "language_info": {
   "codemirror_mode": {
    "name": "ipython",
    "version": 3
   },
   "file_extension": ".py",
   "mimetype": "text/x-python",
   "name": "python",
   "nbconvert_exporter": "python",
   "pygments_lexer": "ipython3",
   "version": "3.10.4"
  },
  "orig_nbformat": 4
 },
 "nbformat": 4,
 "nbformat_minor": 2
}
